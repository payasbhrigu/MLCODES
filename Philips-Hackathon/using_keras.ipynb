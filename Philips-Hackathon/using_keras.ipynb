{
 "cells": [
  {
   "cell_type": "code",
   "execution_count": 31,
   "metadata": {},
   "outputs": [],
   "source": [
    "import tensorflow as tf\n",
    "from tensorflow import keras as keras"
   ]
  },
  {
   "cell_type": "code",
   "execution_count": 32,
   "metadata": {},
   "outputs": [],
   "source": [
    "import numpy as np\n",
    "import pandas as pd"
   ]
  },
  {
   "cell_type": "code",
   "execution_count": 33,
   "metadata": {},
   "outputs": [
    {
     "data": {
      "text/html": [
       "<div>\n",
       "<style scoped>\n",
       "    .dataframe tbody tr th:only-of-type {\n",
       "        vertical-align: middle;\n",
       "    }\n",
       "\n",
       "    .dataframe tbody tr th {\n",
       "        vertical-align: top;\n",
       "    }\n",
       "\n",
       "    .dataframe thead th {\n",
       "        text-align: right;\n",
       "    }\n",
       "</style>\n",
       "<table border=\"1\" class=\"dataframe\">\n",
       "  <thead>\n",
       "    <tr style=\"text-align: right;\">\n",
       "      <th></th>\n",
       "      <th>battery_power</th>\n",
       "      <th>blue</th>\n",
       "      <th>clock_speed</th>\n",
       "      <th>dual_sim</th>\n",
       "      <th>fc</th>\n",
       "      <th>four_g</th>\n",
       "      <th>int_memory</th>\n",
       "      <th>m_dep</th>\n",
       "      <th>mobile_wt</th>\n",
       "      <th>n_cores</th>\n",
       "      <th>...</th>\n",
       "      <th>px_height</th>\n",
       "      <th>px_width</th>\n",
       "      <th>ram</th>\n",
       "      <th>sc_h</th>\n",
       "      <th>sc_w</th>\n",
       "      <th>talk_time</th>\n",
       "      <th>three_g</th>\n",
       "      <th>touch_screen</th>\n",
       "      <th>wifi</th>\n",
       "      <th>price_range</th>\n",
       "    </tr>\n",
       "  </thead>\n",
       "  <tbody>\n",
       "    <tr>\n",
       "      <th>0</th>\n",
       "      <td>842</td>\n",
       "      <td>0</td>\n",
       "      <td>2.2</td>\n",
       "      <td>0</td>\n",
       "      <td>1</td>\n",
       "      <td>0</td>\n",
       "      <td>7</td>\n",
       "      <td>0.6</td>\n",
       "      <td>188</td>\n",
       "      <td>2</td>\n",
       "      <td>...</td>\n",
       "      <td>20</td>\n",
       "      <td>756</td>\n",
       "      <td>2549</td>\n",
       "      <td>9</td>\n",
       "      <td>7</td>\n",
       "      <td>19</td>\n",
       "      <td>0</td>\n",
       "      <td>0</td>\n",
       "      <td>1</td>\n",
       "      <td>1</td>\n",
       "    </tr>\n",
       "    <tr>\n",
       "      <th>1</th>\n",
       "      <td>1021</td>\n",
       "      <td>1</td>\n",
       "      <td>0.5</td>\n",
       "      <td>1</td>\n",
       "      <td>0</td>\n",
       "      <td>1</td>\n",
       "      <td>53</td>\n",
       "      <td>0.7</td>\n",
       "      <td>136</td>\n",
       "      <td>3</td>\n",
       "      <td>...</td>\n",
       "      <td>905</td>\n",
       "      <td>1988</td>\n",
       "      <td>2631</td>\n",
       "      <td>17</td>\n",
       "      <td>3</td>\n",
       "      <td>7</td>\n",
       "      <td>1</td>\n",
       "      <td>1</td>\n",
       "      <td>0</td>\n",
       "      <td>2</td>\n",
       "    </tr>\n",
       "    <tr>\n",
       "      <th>2</th>\n",
       "      <td>563</td>\n",
       "      <td>1</td>\n",
       "      <td>0.5</td>\n",
       "      <td>1</td>\n",
       "      <td>2</td>\n",
       "      <td>1</td>\n",
       "      <td>41</td>\n",
       "      <td>0.9</td>\n",
       "      <td>145</td>\n",
       "      <td>5</td>\n",
       "      <td>...</td>\n",
       "      <td>1263</td>\n",
       "      <td>1716</td>\n",
       "      <td>2603</td>\n",
       "      <td>11</td>\n",
       "      <td>2</td>\n",
       "      <td>9</td>\n",
       "      <td>1</td>\n",
       "      <td>1</td>\n",
       "      <td>0</td>\n",
       "      <td>2</td>\n",
       "    </tr>\n",
       "    <tr>\n",
       "      <th>3</th>\n",
       "      <td>615</td>\n",
       "      <td>1</td>\n",
       "      <td>2.5</td>\n",
       "      <td>0</td>\n",
       "      <td>0</td>\n",
       "      <td>0</td>\n",
       "      <td>10</td>\n",
       "      <td>0.8</td>\n",
       "      <td>131</td>\n",
       "      <td>6</td>\n",
       "      <td>...</td>\n",
       "      <td>1216</td>\n",
       "      <td>1786</td>\n",
       "      <td>2769</td>\n",
       "      <td>16</td>\n",
       "      <td>8</td>\n",
       "      <td>11</td>\n",
       "      <td>1</td>\n",
       "      <td>0</td>\n",
       "      <td>0</td>\n",
       "      <td>2</td>\n",
       "    </tr>\n",
       "    <tr>\n",
       "      <th>4</th>\n",
       "      <td>1821</td>\n",
       "      <td>1</td>\n",
       "      <td>1.2</td>\n",
       "      <td>0</td>\n",
       "      <td>13</td>\n",
       "      <td>1</td>\n",
       "      <td>44</td>\n",
       "      <td>0.6</td>\n",
       "      <td>141</td>\n",
       "      <td>2</td>\n",
       "      <td>...</td>\n",
       "      <td>1208</td>\n",
       "      <td>1212</td>\n",
       "      <td>1411</td>\n",
       "      <td>8</td>\n",
       "      <td>2</td>\n",
       "      <td>15</td>\n",
       "      <td>1</td>\n",
       "      <td>1</td>\n",
       "      <td>0</td>\n",
       "      <td>1</td>\n",
       "    </tr>\n",
       "  </tbody>\n",
       "</table>\n",
       "<p>5 rows × 21 columns</p>\n",
       "</div>"
      ],
      "text/plain": [
       "   battery_power  blue  clock_speed  dual_sim  fc  four_g  int_memory  m_dep  \\\n",
       "0            842     0          2.2         0   1       0           7    0.6   \n",
       "1           1021     1          0.5         1   0       1          53    0.7   \n",
       "2            563     1          0.5         1   2       1          41    0.9   \n",
       "3            615     1          2.5         0   0       0          10    0.8   \n",
       "4           1821     1          1.2         0  13       1          44    0.6   \n",
       "\n",
       "   mobile_wt  n_cores     ...       px_height  px_width   ram  sc_h  sc_w  \\\n",
       "0        188        2     ...              20       756  2549     9     7   \n",
       "1        136        3     ...             905      1988  2631    17     3   \n",
       "2        145        5     ...            1263      1716  2603    11     2   \n",
       "3        131        6     ...            1216      1786  2769    16     8   \n",
       "4        141        2     ...            1208      1212  1411     8     2   \n",
       "\n",
       "   talk_time  three_g  touch_screen  wifi  price_range  \n",
       "0         19        0             0     1            1  \n",
       "1          7        1             1     0            2  \n",
       "2          9        1             1     0            2  \n",
       "3         11        1             0     0            2  \n",
       "4         15        1             1     0            1  \n",
       "\n",
       "[5 rows x 21 columns]"
      ]
     },
     "execution_count": 33,
     "metadata": {},
     "output_type": "execute_result"
    }
   ],
   "source": [
    "dataset = pd.read_csv('train.csv')\n",
    "dataset.head()"
   ]
  },
  {
   "cell_type": "code",
   "execution_count": 34,
   "metadata": {},
   "outputs": [],
   "source": [
    "X = dataset.iloc[:,[0,11,12,13]]\n",
    "y = dataset.iloc[:,-1]"
   ]
  },
  {
   "cell_type": "code",
   "execution_count": 35,
   "metadata": {},
   "outputs": [
    {
     "name": "stdout",
     "output_type": "stream",
     "text": [
      "(0, 'battery_power')\n",
      "(1, 'blue')\n",
      "(2, 'clock_speed')\n",
      "(3, 'dual_sim')\n",
      "(4, 'fc')\n",
      "(5, 'four_g')\n",
      "(6, 'int_memory')\n",
      "(7, 'm_dep')\n",
      "(8, 'mobile_wt')\n",
      "(9, 'n_cores')\n",
      "(10, 'pc')\n",
      "(11, 'px_height')\n",
      "(12, 'px_width')\n",
      "(13, 'ram')\n",
      "(14, 'sc_h')\n",
      "(15, 'sc_w')\n",
      "(16, 'talk_time')\n",
      "(17, 'three_g')\n",
      "(18, 'touch_screen')\n",
      "(19, 'wifi')\n",
      "(20, 'price_range')\n"
     ]
    }
   ],
   "source": [
    "for i in enumerate(dataset.columns):\n",
    "    print(i)"
   ]
  },
  {
   "cell_type": "code",
   "execution_count": 36,
   "metadata": {},
   "outputs": [
    {
     "name": "stderr",
     "output_type": "stream",
     "text": [
      "C:\\Anaconda\\lib\\site-packages\\pandas\\core\\indexing.py:543: SettingWithCopyWarning: \n",
      "A value is trying to be set on a copy of a slice from a DataFrame.\n",
      "Try using .loc[row_indexer,col_indexer] = value instead\n",
      "\n",
      "See the caveats in the documentation: http://pandas.pydata.org/pandas-docs/stable/indexing.html#indexing-view-versus-copy\n",
      "  self.obj[item] = s\n"
     ]
    }
   ],
   "source": [
    "X.iloc[[1481,1933],1] = X['px_height'].mean()"
   ]
  },
  {
   "cell_type": "code",
   "execution_count": 37,
   "metadata": {},
   "outputs": [
    {
     "data": {
      "text/plain": [
       "1481    645.108\n",
       "1933    645.108\n",
       "Name: px_height, dtype: float64"
      ]
     },
     "execution_count": 37,
     "metadata": {},
     "output_type": "execute_result"
    }
   ],
   "source": [
    "X.iloc[[1481,1933],1]"
   ]
  },
  {
   "cell_type": "code",
   "execution_count": 38,
   "metadata": {},
   "outputs": [],
   "source": [
    "from sklearn.cross_validation import train_test_split"
   ]
  },
  {
   "cell_type": "code",
   "execution_count": 39,
   "metadata": {},
   "outputs": [],
   "source": [
    "Xtrain,Xtest,ytrain,ytest = train_test_split(X,y,random_state=123)"
   ]
  },
  {
   "cell_type": "code",
   "execution_count": 40,
   "metadata": {},
   "outputs": [],
   "source": [
    "model = tf.keras.models.Sequential()"
   ]
  },
  {
   "cell_type": "code",
   "execution_count": 41,
   "metadata": {},
   "outputs": [],
   "source": [
    "model.add(tf.keras.layers.Dense(4, activation=tf.nn.relu))"
   ]
  },
  {
   "cell_type": "code",
   "execution_count": null,
   "metadata": {},
   "outputs": [],
   "source": [
    "model.add(tf.keras.layers.Dense(14,activation=tf.nn.relu))"
   ]
  },
  {
   "cell_type": "code",
   "execution_count": 27,
   "metadata": {},
   "outputs": [],
   "source": [
    "model.add(tf.keras.layers.Dense(8,activation=tf.nn.relu))"
   ]
  },
  {
   "cell_type": "code",
   "execution_count": 28,
   "metadata": {},
   "outputs": [],
   "source": [
    "model.add(tf.keras.layers.Dense(4, activation=tf.nn.softmax))"
   ]
  },
  {
   "cell_type": "code",
   "execution_count": 29,
   "metadata": {},
   "outputs": [],
   "source": [
    "model.compile(optimizer='adam',\n",
    "              loss='sparse_categorical_crossentropy',\n",
    "              metrics=['accuracy'])"
   ]
  },
  {
   "cell_type": "code",
   "execution_count": 30,
   "metadata": {},
   "outputs": [
    {
     "name": "stdout",
     "output_type": "stream",
     "text": [
      "Epoch 1/1500\n",
      "1500/1500 [==============================] - 0s 319us/step - loss: 12.1208 - acc: 0.2480\n",
      "Epoch 2/1500\n",
      "1500/1500 [==============================] - 0s 144us/step - loss: 12.1208 - acc: 0.2480\n",
      "Epoch 3/1500\n",
      "1500/1500 [==============================] - 0s 142us/step - loss: 12.1208 - acc: 0.2480\n",
      "Epoch 4/1500\n",
      "1500/1500 [==============================] - 0s 131us/step - loss: 12.1208 - acc: 0.2480\n",
      "Epoch 5/1500\n",
      "1500/1500 [==============================] - 0s 170us/step - loss: 12.1208 - acc: 0.2480TA: 0s - loss: 11.7901 - acc: 0.\n",
      "Epoch 6/1500\n",
      "1500/1500 [==============================] - 0s 202us/step - loss: 12.1208 - acc: 0.2480\n",
      "Epoch 7/1500\n",
      "1500/1500 [==============================] - 0s 203us/step - loss: 12.1208 - acc: 0.2480\n",
      "Epoch 8/1500\n",
      "1500/1500 [==============================] - 0s 154us/step - loss: 12.1208 - acc: 0.2480\n",
      "Epoch 9/1500\n",
      "1500/1500 [==============================] - 0s 137us/step - loss: 12.1208 - acc: 0.2480\n",
      "Epoch 10/1500\n",
      "1500/1500 [==============================] - 0s 138us/step - loss: 12.1208 - acc: 0.2480\n",
      "Epoch 11/1500\n",
      "1500/1500 [==============================] - 0s 143us/step - loss: 12.1208 - acc: 0.2480\n",
      "Epoch 12/1500\n",
      "1500/1500 [==============================] - 0s 168us/step - loss: 12.1208 - acc: 0.2480\n",
      "Epoch 13/1500\n",
      "1500/1500 [==============================] - 0s 175us/step - loss: 12.1208 - acc: 0.2480\n",
      "Epoch 14/1500\n",
      "1500/1500 [==============================] - 0s 132us/step - loss: 12.1208 - acc: 0.2480\n",
      "Epoch 15/1500\n",
      "1500/1500 [==============================] - 0s 143us/step - loss: 12.1208 - acc: 0.2480\n",
      "Epoch 16/1500\n",
      "1500/1500 [==============================] - 0s 143us/step - loss: 12.1208 - acc: 0.2480\n",
      "Epoch 17/1500\n",
      "1500/1500 [==============================] - 0s 144us/step - loss: 12.1208 - acc: 0.2480\n",
      "Epoch 18/1500\n",
      "1500/1500 [==============================] - 0s 142us/step - loss: 12.1208 - acc: 0.2480\n",
      "Epoch 19/1500\n",
      "1500/1500 [==============================] - 0s 140us/step - loss: 12.1208 - acc: 0.2480\n",
      "Epoch 20/1500\n",
      "1500/1500 [==============================] - 0s 135us/step - loss: 12.1208 - acc: 0.2480\n",
      "Epoch 21/1500\n",
      "1500/1500 [==============================] - 0s 133us/step - loss: 12.1208 - acc: 0.2480\n",
      "Epoch 22/1500\n",
      "1500/1500 [==============================] - 0s 145us/step - loss: 12.1208 - acc: 0.2480\n",
      "Epoch 23/1500\n",
      "1500/1500 [==============================] - 0s 145us/step - loss: 12.1208 - acc: 0.2480\n",
      "Epoch 24/1500\n",
      "1500/1500 [==============================] - ETA: 0s - loss: 12.2041 - acc: 0.24 - 0s 159us/step - loss: 12.1208 - acc: 0.2480\n",
      "Epoch 25/1500\n",
      "1500/1500 [==============================] - ETA: 0s - loss: 12.1248 - acc: 0.24 - 0s 194us/step - loss: 12.1208 - acc: 0.2480\n",
      "Epoch 26/1500\n",
      "1500/1500 [==============================] - 0s 149us/step - loss: 12.1208 - acc: 0.2480\n",
      "Epoch 27/1500\n",
      "1500/1500 [==============================] - 0s 152us/step - loss: 12.1208 - acc: 0.2480\n",
      "Epoch 28/1500\n",
      "1500/1500 [==============================] - 0s 146us/step - loss: 12.1208 - acc: 0.2480\n",
      "Epoch 29/1500\n",
      "1500/1500 [==============================] - 0s 223us/step - loss: 12.1208 - acc: 0.2480\n",
      "Epoch 30/1500\n",
      "1500/1500 [==============================] - 0s 214us/step - loss: 12.1208 - acc: 0.2480\n",
      "Epoch 31/1500\n",
      "1500/1500 [==============================] - 0s 207us/step - loss: 12.1208 - acc: 0.2480\n",
      "Epoch 32/1500\n",
      "1500/1500 [==============================] - 0s 210us/step - loss: 12.1208 - acc: 0.2480\n",
      "Epoch 33/1500\n",
      "1500/1500 [==============================] - 0s 151us/step - loss: 12.1208 - acc: 0.2480\n",
      "Epoch 34/1500\n",
      "1500/1500 [==============================] - 0s 238us/step - loss: 12.1208 - acc: 0.2480\n",
      "Epoch 35/1500\n",
      "1500/1500 [==============================] - 0s 156us/step - loss: 12.1208 - acc: 0.2480\n",
      "Epoch 36/1500\n",
      "1500/1500 [==============================] - 0s 215us/step - loss: 12.1208 - acc: 0.2480\n",
      "Epoch 37/1500\n",
      "1500/1500 [==============================] - 0s 187us/step - loss: 12.1208 - acc: 0.2480\n",
      "Epoch 38/1500\n",
      "1500/1500 [==============================] - 0s 151us/step - loss: 12.1208 - acc: 0.2480\n",
      "Epoch 39/1500\n",
      "1500/1500 [==============================] - 0s 154us/step - loss: 12.1208 - acc: 0.2480\n",
      "Epoch 40/1500\n",
      "1500/1500 [==============================] - 0s 152us/step - loss: 12.1208 - acc: 0.2480\n",
      "Epoch 41/1500\n",
      "1500/1500 [==============================] - 0s 155us/step - loss: 12.1208 - acc: 0.2480\n",
      "Epoch 42/1500\n",
      "1500/1500 [==============================] - 0s 227us/step - loss: 12.1208 - acc: 0.2480\n",
      "Epoch 43/1500\n",
      "1500/1500 [==============================] - 0s 155us/step - loss: 12.1208 - acc: 0.2480\n",
      "Epoch 44/1500\n",
      "1500/1500 [==============================] - 0s 255us/step - loss: 12.1208 - acc: 0.2480\n",
      "Epoch 45/1500\n",
      "1500/1500 [==============================] - 0s 158us/step - loss: 12.1208 - acc: 0.2480\n",
      "Epoch 46/1500\n",
      "1500/1500 [==============================] - 0s 190us/step - loss: 12.1208 - acc: 0.2480\n",
      "Epoch 47/1500\n",
      "1500/1500 [==============================] - 0s 229us/step - loss: 12.1208 - acc: 0.2480\n",
      "Epoch 48/1500\n",
      "1500/1500 [==============================] - 0s 192us/step - loss: 12.1208 - acc: 0.2480\n",
      "Epoch 49/1500\n",
      "1500/1500 [==============================] - 0s 177us/step - loss: 12.1208 - acc: 0.2480\n",
      "Epoch 50/1500\n",
      "1500/1500 [==============================] - 0s 176us/step - loss: 12.1208 - acc: 0.2480\n",
      "Epoch 51/1500\n",
      "1500/1500 [==============================] - 0s 184us/step - loss: 12.1208 - acc: 0.2480\n",
      "Epoch 52/1500\n",
      "1500/1500 [==============================] - 0s 194us/step - loss: 12.1208 - acc: 0.2480\n",
      "Epoch 53/1500\n",
      "1500/1500 [==============================] - 0s 229us/step - loss: 12.1208 - acc: 0.2480\n",
      "Epoch 54/1500\n",
      "1500/1500 [==============================] - 0s 253us/step - loss: 12.1208 - acc: 0.2480\n",
      "Epoch 55/1500\n",
      "1500/1500 [==============================] - 0s 247us/step - loss: 12.1208 - acc: 0.24800s - loss: 12.2748 - acc: \n",
      "Epoch 56/1500\n",
      "1500/1500 [==============================] - 0s 245us/step - loss: 12.1208 - acc: 0.2480\n",
      "Epoch 57/1500\n",
      "1500/1500 [==============================] - 0s 205us/step - loss: 12.1208 - acc: 0.2480\n",
      "Epoch 58/1500\n",
      "1500/1500 [==============================] - 0s 275us/step - loss: 12.1208 - acc: 0.2480\n",
      "Epoch 59/1500\n",
      "1500/1500 [==============================] - 0s 194us/step - loss: 12.1208 - acc: 0.2480\n",
      "Epoch 60/1500\n",
      "1500/1500 [==============================] - 0s 272us/step - loss: 12.1208 - acc: 0.2480\n",
      "Epoch 61/1500\n",
      "1500/1500 [==============================] - 0s 274us/step - loss: 12.1208 - acc: 0.2480\n",
      "Epoch 62/1500\n",
      "1500/1500 [==============================] - 0s 262us/step - loss: 12.1208 - acc: 0.2480\n",
      "Epoch 63/1500\n",
      "1500/1500 [==============================] - ETA: 0s - loss: 12.1589 - acc: 0.24 - 0s 270us/step - loss: 12.1208 - acc: 0.2480\n",
      "Epoch 64/1500\n",
      "1500/1500 [==============================] - 0s 269us/step - loss: 12.1208 - acc: 0.2480\n",
      "Epoch 65/1500\n",
      "1500/1500 [==============================] - 0s 265us/step - loss: 12.1208 - acc: 0.2480\n",
      "Epoch 66/1500\n",
      "1500/1500 [==============================] - 0s 245us/step - loss: 12.1208 - acc: 0.2480\n",
      "Epoch 67/1500\n",
      "1500/1500 [==============================] - 0s 281us/step - loss: 12.1208 - acc: 0.2480\n",
      "Epoch 68/1500\n",
      "1500/1500 [==============================] - 0s 290us/step - loss: 12.1208 - acc: 0.2480\n",
      "Epoch 69/1500\n",
      "1500/1500 [==============================] - 0s 215us/step - loss: 12.1208 - acc: 0.2480\n",
      "Epoch 70/1500\n",
      "1500/1500 [==============================] - 0s 301us/step - loss: 12.1208 - acc: 0.2480\n",
      "Epoch 71/1500\n",
      "1500/1500 [==============================] - 0s 279us/step - loss: 12.1208 - acc: 0.2480\n",
      "Epoch 72/1500\n",
      "1500/1500 [==============================] - 0s 273us/step - loss: 12.1208 - acc: 0.2480\n",
      "Epoch 73/1500\n",
      "1500/1500 [==============================] - 0s 303us/step - loss: 12.1208 - acc: 0.2480\n",
      "Epoch 74/1500\n",
      "1500/1500 [==============================] - 0s 244us/step - loss: 12.1208 - acc: 0.2480\n",
      "Epoch 75/1500\n",
      "1500/1500 [==============================] - 0s 302us/step - loss: 12.1208 - acc: 0.2480\n",
      "Epoch 76/1500\n",
      "1500/1500 [==============================] - 0s 288us/step - loss: 12.1208 - acc: 0.2480\n",
      "Epoch 77/1500\n",
      "1500/1500 [==============================] - 0s 274us/step - loss: 12.1208 - acc: 0.2480\n",
      "Epoch 78/1500\n",
      "1500/1500 [==============================] - 0s 255us/step - loss: 12.1208 - acc: 0.2480\n"
     ]
    },
    {
     "name": "stdout",
     "output_type": "stream",
     "text": [
      "Epoch 79/1500\n",
      "1500/1500 [==============================] - 0s 263us/step - loss: 12.1208 - acc: 0.2480\n",
      "Epoch 80/1500\n",
      "1500/1500 [==============================] - 0s 219us/step - loss: 12.1208 - acc: 0.2480\n",
      "Epoch 81/1500\n",
      "1500/1500 [==============================] - 0s 282us/step - loss: 12.1208 - acc: 0.2480\n",
      "Epoch 82/1500\n",
      "1500/1500 [==============================] - 0s 167us/step - loss: 12.1208 - acc: 0.2480\n",
      "Epoch 83/1500\n",
      "1500/1500 [==============================] - 0s 176us/step - loss: 12.1208 - acc: 0.2480\n",
      "Epoch 84/1500\n",
      "1500/1500 [==============================] - 0s 169us/step - loss: 12.1208 - acc: 0.2480\n",
      "Epoch 85/1500\n",
      "1500/1500 [==============================] - 0s 190us/step - loss: 12.1208 - acc: 0.2480\n",
      "Epoch 86/1500\n",
      "1500/1500 [==============================] - 0s 210us/step - loss: 12.1208 - acc: 0.2480\n",
      "Epoch 87/1500\n",
      "1500/1500 [==============================] - 0s 287us/step - loss: 12.1208 - acc: 0.2480\n",
      "Epoch 88/1500\n",
      "1500/1500 [==============================] - 0s 257us/step - loss: 12.1208 - acc: 0.2480\n",
      "Epoch 89/1500\n",
      "1500/1500 [==============================] - 0s 317us/step - loss: 12.1208 - acc: 0.2480\n",
      "Epoch 90/1500\n",
      "1500/1500 [==============================] - 0s 280us/step - loss: 12.1208 - acc: 0.2480\n",
      "Epoch 91/1500\n",
      "1500/1500 [==============================] - 0s 261us/step - loss: 12.1208 - acc: 0.2480\n",
      "Epoch 92/1500\n",
      "1500/1500 [==============================] - 0s 173us/step - loss: 12.1208 - acc: 0.2480\n",
      "Epoch 93/1500\n",
      "1500/1500 [==============================] - 0s 319us/step - loss: 12.1208 - acc: 0.2480\n",
      "Epoch 94/1500\n",
      "1500/1500 [==============================] - 1s 359us/step - loss: 12.1208 - acc: 0.2480\n",
      "Epoch 95/1500\n",
      "1500/1500 [==============================] - 0s 271us/step - loss: 12.1208 - acc: 0.2480\n",
      "Epoch 96/1500\n",
      "1500/1500 [==============================] - 0s 301us/step - loss: 12.1208 - acc: 0.2480\n",
      "Epoch 97/1500\n",
      "1500/1500 [==============================] - 0s 298us/step - loss: 12.1208 - acc: 0.2480\n",
      "Epoch 98/1500\n",
      "1500/1500 [==============================] - 0s 283us/step - loss: 12.1208 - acc: 0.2480\n",
      "Epoch 99/1500\n",
      "1500/1500 [==============================] - 0s 262us/step - loss: 12.1208 - acc: 0.2480\n",
      "Epoch 100/1500\n",
      "1500/1500 [==============================] - 0s 312us/step - loss: 12.1208 - acc: 0.2480\n",
      "Epoch 101/1500\n",
      "1500/1500 [==============================] - 1s 360us/step - loss: 12.1208 - acc: 0.2480\n",
      "Epoch 102/1500\n",
      "1500/1500 [==============================] - 1s 350us/step - loss: 12.1208 - acc: 0.2480\n",
      "Epoch 103/1500\n",
      "1500/1500 [==============================] - 0s 263us/step - loss: 12.1208 - acc: 0.2480\n",
      "Epoch 104/1500\n",
      "1500/1500 [==============================] - 0s 197us/step - loss: 12.1208 - acc: 0.2480\n",
      "Epoch 105/1500\n",
      "1500/1500 [==============================] - 0s 247us/step - loss: 12.1208 - acc: 0.2480\n",
      "Epoch 106/1500\n",
      "1500/1500 [==============================] - 0s 326us/step - loss: 12.1208 - acc: 0.2480\n",
      "Epoch 107/1500\n",
      "1500/1500 [==============================] - 0s 193us/step - loss: 12.1208 - acc: 0.2480\n",
      "Epoch 108/1500\n",
      "1500/1500 [==============================] - 0s 212us/step - loss: 12.1208 - acc: 0.2480\n",
      "Epoch 109/1500\n",
      "1500/1500 [==============================] - 0s 249us/step - loss: 12.1208 - acc: 0.2480\n",
      "Epoch 110/1500\n",
      "1500/1500 [==============================] - 0s 172us/step - loss: 12.1208 - acc: 0.2480\n",
      "Epoch 111/1500\n",
      "1500/1500 [==============================] - 0s 156us/step - loss: 12.1208 - acc: 0.2480\n",
      "Epoch 112/1500\n",
      "1500/1500 [==============================] - 0s 168us/step - loss: 12.1208 - acc: 0.2480\n",
      "Epoch 113/1500\n",
      "1500/1500 [==============================] - 0s 180us/step - loss: 12.1208 - acc: 0.2480\n",
      "Epoch 114/1500\n",
      "1500/1500 [==============================] - 0s 193us/step - loss: 12.1208 - acc: 0.2480\n",
      "Epoch 115/1500\n",
      "1500/1500 [==============================] - 0s 181us/step - loss: 12.1208 - acc: 0.2480\n",
      "Epoch 116/1500\n",
      "1500/1500 [==============================] - 0s 189us/step - loss: 12.1208 - acc: 0.2480\n",
      "Epoch 117/1500\n",
      "1500/1500 [==============================] - 0s 175us/step - loss: 12.1208 - acc: 0.2480\n",
      "Epoch 118/1500\n",
      "1500/1500 [==============================] - 0s 169us/step - loss: 12.1208 - acc: 0.2480\n",
      "Epoch 119/1500\n",
      "   8/1500 [..............................] - ETA: 0s - loss: 16.1181 - acc: 0.0000e+00"
     ]
    },
    {
     "ename": "KeyboardInterrupt",
     "evalue": "",
     "output_type": "error",
     "traceback": [
      "\u001b[1;31m---------------------------------------------------------------------------\u001b[0m",
      "\u001b[1;31mKeyboardInterrupt\u001b[0m                         Traceback (most recent call last)",
      "\u001b[1;32m<ipython-input-30-a59db8cf9c90>\u001b[0m in \u001b[0;36m<module>\u001b[1;34m()\u001b[0m\n\u001b[1;32m----> 1\u001b[1;33m \u001b[0mmodel\u001b[0m\u001b[1;33m.\u001b[0m\u001b[0mfit\u001b[0m\u001b[1;33m(\u001b[0m\u001b[0mXtrain\u001b[0m\u001b[1;33m.\u001b[0m\u001b[0mvalues\u001b[0m\u001b[1;33m,\u001b[0m \u001b[0mytrain\u001b[0m\u001b[1;33m.\u001b[0m\u001b[0mvalues\u001b[0m\u001b[1;33m,\u001b[0m \u001b[0mepochs\u001b[0m\u001b[1;33m=\u001b[0m\u001b[1;36m1500\u001b[0m\u001b[1;33m,\u001b[0m\u001b[0mbatch_size\u001b[0m\u001b[1;33m=\u001b[0m\u001b[1;36m8\u001b[0m\u001b[1;33m)\u001b[0m\u001b[1;33m\u001b[0m\u001b[0m\n\u001b[0m",
      "\u001b[1;32mC:\\Anaconda\\lib\\site-packages\\tensorflow\\python\\keras\\engine\\training.py\u001b[0m in \u001b[0;36mfit\u001b[1;34m(self, x, y, batch_size, epochs, verbose, callbacks, validation_split, validation_data, shuffle, class_weight, sample_weight, initial_epoch, steps_per_epoch, validation_steps, **kwargs)\u001b[0m\n\u001b[0;32m   1346\u001b[0m           \u001b[0minitial_epoch\u001b[0m\u001b[1;33m=\u001b[0m\u001b[0minitial_epoch\u001b[0m\u001b[1;33m,\u001b[0m\u001b[1;33m\u001b[0m\u001b[0m\n\u001b[0;32m   1347\u001b[0m           \u001b[0msteps_per_epoch\u001b[0m\u001b[1;33m=\u001b[0m\u001b[0msteps_per_epoch\u001b[0m\u001b[1;33m,\u001b[0m\u001b[1;33m\u001b[0m\u001b[0m\n\u001b[1;32m-> 1348\u001b[1;33m           validation_steps=validation_steps)\n\u001b[0m\u001b[0;32m   1349\u001b[0m \u001b[1;33m\u001b[0m\u001b[0m\n\u001b[0;32m   1350\u001b[0m   def evaluate(self,\n",
      "\u001b[1;32mC:\\Anaconda\\lib\\site-packages\\tensorflow\\python\\keras\\engine\\training_arrays.py\u001b[0m in \u001b[0;36mfit_loop\u001b[1;34m(model, inputs, targets, sample_weights, batch_size, epochs, verbose, callbacks, val_inputs, val_targets, val_sample_weights, shuffle, callback_metrics, initial_epoch, steps_per_epoch, validation_steps)\u001b[0m\n\u001b[0;32m    251\u001b[0m           \u001b[0mins_batch\u001b[0m\u001b[1;33m[\u001b[0m\u001b[0mi\u001b[0m\u001b[1;33m]\u001b[0m \u001b[1;33m=\u001b[0m \u001b[0mins_batch\u001b[0m\u001b[1;33m[\u001b[0m\u001b[0mi\u001b[0m\u001b[1;33m]\u001b[0m\u001b[1;33m.\u001b[0m\u001b[0mtoarray\u001b[0m\u001b[1;33m(\u001b[0m\u001b[1;33m)\u001b[0m\u001b[1;33m\u001b[0m\u001b[0m\n\u001b[0;32m    252\u001b[0m \u001b[1;33m\u001b[0m\u001b[0m\n\u001b[1;32m--> 253\u001b[1;33m         \u001b[0mouts\u001b[0m \u001b[1;33m=\u001b[0m \u001b[0mf\u001b[0m\u001b[1;33m(\u001b[0m\u001b[0mins_batch\u001b[0m\u001b[1;33m)\u001b[0m\u001b[1;33m\u001b[0m\u001b[0m\n\u001b[0m\u001b[0;32m    254\u001b[0m         \u001b[1;32mif\u001b[0m \u001b[1;32mnot\u001b[0m \u001b[0misinstance\u001b[0m\u001b[1;33m(\u001b[0m\u001b[0mouts\u001b[0m\u001b[1;33m,\u001b[0m \u001b[0mlist\u001b[0m\u001b[1;33m)\u001b[0m\u001b[1;33m:\u001b[0m\u001b[1;33m\u001b[0m\u001b[0m\n\u001b[0;32m    255\u001b[0m           \u001b[0mouts\u001b[0m \u001b[1;33m=\u001b[0m \u001b[1;33m[\u001b[0m\u001b[0mouts\u001b[0m\u001b[1;33m]\u001b[0m\u001b[1;33m\u001b[0m\u001b[0m\n",
      "\u001b[1;32mC:\\Anaconda\\lib\\site-packages\\tensorflow\\python\\keras\\backend.py\u001b[0m in \u001b[0;36m__call__\u001b[1;34m(self, inputs)\u001b[0m\n\u001b[0;32m   2895\u001b[0m       \u001b[0mself\u001b[0m\u001b[1;33m.\u001b[0m\u001b[0m_make_callable\u001b[0m\u001b[1;33m(\u001b[0m\u001b[0mfeed_arrays\u001b[0m\u001b[1;33m,\u001b[0m \u001b[0mfeed_symbols\u001b[0m\u001b[1;33m,\u001b[0m \u001b[0msymbol_vals\u001b[0m\u001b[1;33m,\u001b[0m \u001b[0msession\u001b[0m\u001b[1;33m)\u001b[0m\u001b[1;33m\u001b[0m\u001b[0m\n\u001b[0;32m   2896\u001b[0m \u001b[1;33m\u001b[0m\u001b[0m\n\u001b[1;32m-> 2897\u001b[1;33m     \u001b[0mfetched\u001b[0m \u001b[1;33m=\u001b[0m \u001b[0mself\u001b[0m\u001b[1;33m.\u001b[0m\u001b[0m_callable_fn\u001b[0m\u001b[1;33m(\u001b[0m\u001b[1;33m*\u001b[0m\u001b[0marray_vals\u001b[0m\u001b[1;33m)\u001b[0m\u001b[1;33m\u001b[0m\u001b[0m\n\u001b[0m\u001b[0;32m   2898\u001b[0m     \u001b[1;32mreturn\u001b[0m \u001b[0mfetched\u001b[0m\u001b[1;33m[\u001b[0m\u001b[1;33m:\u001b[0m\u001b[0mlen\u001b[0m\u001b[1;33m(\u001b[0m\u001b[0mself\u001b[0m\u001b[1;33m.\u001b[0m\u001b[0moutputs\u001b[0m\u001b[1;33m)\u001b[0m\u001b[1;33m]\u001b[0m\u001b[1;33m\u001b[0m\u001b[0m\n\u001b[0;32m   2899\u001b[0m \u001b[1;33m\u001b[0m\u001b[0m\n",
      "\u001b[1;32mC:\\Anaconda\\lib\\site-packages\\tensorflow\\python\\client\\session.py\u001b[0m in \u001b[0;36m__call__\u001b[1;34m(self, *args)\u001b[0m\n\u001b[0;32m   1449\u001b[0m         \u001b[1;32mif\u001b[0m \u001b[0mself\u001b[0m\u001b[1;33m.\u001b[0m\u001b[0m_session\u001b[0m\u001b[1;33m.\u001b[0m\u001b[0m_created_with_new_api\u001b[0m\u001b[1;33m:\u001b[0m\u001b[1;33m\u001b[0m\u001b[0m\n\u001b[0;32m   1450\u001b[0m           return tf_session.TF_SessionRunCallable(\n\u001b[1;32m-> 1451\u001b[1;33m               self._session._session, self._handle, args, status, None)\n\u001b[0m\u001b[0;32m   1452\u001b[0m         \u001b[1;32melse\u001b[0m\u001b[1;33m:\u001b[0m\u001b[1;33m\u001b[0m\u001b[0m\n\u001b[0;32m   1453\u001b[0m           return tf_session.TF_DeprecatedSessionRunCallable(\n",
      "\u001b[1;31mKeyboardInterrupt\u001b[0m: "
     ]
    }
   ],
   "source": [
    "model.fit(Xtrain.values, ytrain.values, epochs=1500,batch_size=8)"
   ]
  },
  {
   "cell_type": "code",
   "execution_count": 62,
   "metadata": {},
   "outputs": [],
   "source": [
    "predictions = model.predict(Xtest)"
   ]
  },
  {
   "cell_type": "code",
   "execution_count": 63,
   "metadata": {},
   "outputs": [
    {
     "data": {
      "text/plain": [
       "array([9.9969828e-01, 3.0170512e-04, 7.5853113e-31, 0.0000000e+00],\n",
       "      dtype=float32)"
      ]
     },
     "execution_count": 63,
     "metadata": {},
     "output_type": "execute_result"
    }
   ],
   "source": [
    "predictions[0]"
   ]
  },
  {
   "cell_type": "code",
   "execution_count": 64,
   "metadata": {},
   "outputs": [],
   "source": [
    "pred = []\n",
    "for i in range(len(predictions)):\n",
    "    pred.append(np.argmax(predictions[i]))"
   ]
  },
  {
   "cell_type": "code",
   "execution_count": 65,
   "metadata": {},
   "outputs": [],
   "source": [
    "pred = np.array(pred)"
   ]
  },
  {
   "cell_type": "code",
   "execution_count": 66,
   "metadata": {},
   "outputs": [
    {
     "data": {
      "text/plain": [
       "array([[125,   0,   0,   0],\n",
       "       [  7, 114,   0,   0],\n",
       "       [  0,   4, 107,   1],\n",
       "       [  0,   0,  13, 129]], dtype=int64)"
      ]
     },
     "execution_count": 66,
     "metadata": {},
     "output_type": "execute_result"
    }
   ],
   "source": [
    "from sklearn.metrics import confusion_matrix\n",
    "confusion_matrix(pred,ytest)"
   ]
  },
  {
   "cell_type": "code",
   "execution_count": 1,
   "metadata": {},
   "outputs": [
    {
     "ename": "NameError",
     "evalue": "name 'train' is not defined",
     "output_type": "error",
     "traceback": [
      "\u001b[1;31m---------------------------------------------------------------------------\u001b[0m",
      "\u001b[1;31mNameError\u001b[0m                                 Traceback (most recent call last)",
      "\u001b[1;32m<ipython-input-1-d52cb4e2ba46>\u001b[0m in \u001b[0;36m<module>\u001b[1;34m()\u001b[0m\n\u001b[1;32m----> 1\u001b[1;33m \u001b[0mtrain\u001b[0m\u001b[1;33m[\u001b[0m\u001b[0mtrain\u001b[0m\u001b[1;33m[\u001b[0m\u001b[1;34m'n_cores'\u001b[0m\u001b[1;33m==\u001b[0m\u001b[1;36m7\u001b[0m\u001b[1;33m]\u001b[0m\u001b[1;33m]\u001b[0m\u001b[1;33m\u001b[0m\u001b[0m\n\u001b[0m",
      "\u001b[1;31mNameError\u001b[0m: name 'train' is not defined"
     ]
    }
   ],
   "source": [
    "train[train['n_cores'==7]]"
   ]
  },
  {
   "cell_type": "code",
   "execution_count": null,
   "metadata": {},
   "outputs": [],
   "source": []
  }
 ],
 "metadata": {
  "kernelspec": {
   "display_name": "Python [conda env:Anaconda]",
   "language": "python",
   "name": "conda-env-Anaconda-py"
  },
  "language_info": {
   "codemirror_mode": {
    "name": "ipython",
    "version": 3
   },
   "file_extension": ".py",
   "mimetype": "text/x-python",
   "name": "python",
   "nbconvert_exporter": "python",
   "pygments_lexer": "ipython3",
   "version": "3.6.5"
  }
 },
 "nbformat": 4,
 "nbformat_minor": 2
}
