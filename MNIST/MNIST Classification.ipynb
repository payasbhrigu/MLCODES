{
 "cells": [
  {
   "cell_type": "code",
   "execution_count": 1,
   "metadata": {},
   "outputs": [],
   "source": [
    "import numpy as np\n",
    "import pandas as pd\n",
    "import matplotlib.pyplot as plt\n",
    "%matplotlib inline"
   ]
  },
  {
   "cell_type": "code",
   "execution_count": 2,
   "metadata": {},
   "outputs": [
    {
     "name": "stdout",
     "output_type": "stream",
     "text": [
      "C:\\Users\\nEW u\\scikit_learn_data\n"
     ]
    }
   ],
   "source": [
    "from sklearn.datasets.base import get_data_home \n",
    "print (get_data_home())"
   ]
  },
  {
   "cell_type": "code",
   "execution_count": 3,
   "metadata": {},
   "outputs": [
    {
     "name": "stderr",
     "output_type": "stream",
     "text": [
      "C:\\Anaconda\\lib\\site-packages\\sklearn\\utils\\deprecation.py:77: DeprecationWarning: Function fetch_mldata is deprecated; fetch_mldata was deprecated in version 0.20 and will be removed in version 0.22\n",
      "  warnings.warn(msg, category=DeprecationWarning)\n",
      "C:\\Anaconda\\lib\\site-packages\\sklearn\\utils\\deprecation.py:77: DeprecationWarning: Function mldata_filename is deprecated; mldata_filename was deprecated in version 0.20 and will be removed in version 0.22\n",
      "  warnings.warn(msg, category=DeprecationWarning)\n"
     ]
    }
   ],
   "source": [
    "from sklearn.datasets import fetch_mldata\n",
    "mnist = fetch_mldata('MNIST original')"
   ]
  },
  {
   "cell_type": "code",
   "execution_count": 4,
   "metadata": {},
   "outputs": [
    {
     "data": {
      "text/plain": [
       "{'DESCR': 'mldata.org dataset: mnist-original',\n",
       " 'COL_NAMES': ['label', 'data'],\n",
       " 'target': array([0., 0., 0., ..., 9., 9., 9.]),\n",
       " 'data': array([[0, 0, 0, ..., 0, 0, 0],\n",
       "        [0, 0, 0, ..., 0, 0, 0],\n",
       "        [0, 0, 0, ..., 0, 0, 0],\n",
       "        ...,\n",
       "        [0, 0, 0, ..., 0, 0, 0],\n",
       "        [0, 0, 0, ..., 0, 0, 0],\n",
       "        [0, 0, 0, ..., 0, 0, 0]], dtype=uint8)}"
      ]
     },
     "execution_count": 4,
     "metadata": {},
     "output_type": "execute_result"
    }
   ],
   "source": [
    "mnist"
   ]
  },
  {
   "cell_type": "code",
   "execution_count": 5,
   "metadata": {},
   "outputs": [
    {
     "data": {
      "text/plain": [
       "((70000, 784), (70000,))"
      ]
     },
     "execution_count": 5,
     "metadata": {},
     "output_type": "execute_result"
    }
   ],
   "source": [
    "X, y = mnist[\"data\"], mnist[\"target\"]\n",
    "X.shape,y.shape"
   ]
  },
  {
   "cell_type": "code",
   "execution_count": 6,
   "metadata": {},
   "outputs": [
    {
     "data": {
      "image/png": "[encoded data removed]",
      "text/plain": [
       "<Figure size 432x288 with 1 Axes>"
      ]
     },
     "metadata": {},
     "output_type": "display_data"
    }
   ],
   "source": [
    "%matplotlib inline \n",
    "import matplotlib\n",
    "import matplotlib.pyplot as plt\n",
    "some_digit = X[6980] \n",
    "some_digit_image = some_digit.reshape(28, 28)\n",
    "plt.imshow(some_digit_image, cmap = matplotlib.cm.binary, interpolation=\"nearest\")\n",
    "plt.axis(\"off\") \n",
    "plt.show()"
   ]
  },
  {
   "cell_type": "code",
   "execution_count": 7,
   "metadata": {},
   "outputs": [],
   "source": [
    "from sklearn.model_selection import train_test_split"
   ]
  },
  {
   "cell_type": "code",
   "execution_count": 8,
   "metadata": {},
   "outputs": [],
   "source": [
    "Xtrain,Xtest,ytrain,ytest = train_test_split(X,y,random_state=42)"
   ]
  },
  {
   "cell_type": "code",
   "execution_count": 9,
   "metadata": {},
   "outputs": [
    {
     "data": {
      "text/plain": [
       "((52500, 784), (17500, 784), (52500,), (17500,))"
      ]
     },
     "execution_count": 9,
     "metadata": {},
     "output_type": "execute_result"
    }
   ],
   "source": [
    "Xtrain.shape,Xtest.shape,ytrain.shape,ytest.shape"
   ]
  },
  {
   "cell_type": "code",
   "execution_count": 10,
   "metadata": {},
   "outputs": [],
   "source": [
    "ytrain5 = ytrain == 1"
   ]
  },
  {
   "cell_type": "code",
   "execution_count": 11,
   "metadata": {},
   "outputs": [
    {
     "data": {
      "text/plain": [
       "array([False,  True, False, False, False, False, False, False, False,\n",
       "       False])"
      ]
     },
     "execution_count": 11,
     "metadata": {},
     "output_type": "execute_result"
    }
   ],
   "source": [
    "ytrain5[:10]"
   ]
  },
  {
   "cell_type": "code",
   "execution_count": 12,
   "metadata": {},
   "outputs": [
    {
     "data": {
      "text/plain": [
       "array([False,  True, False, False, False, False, False, False, False,\n",
       "       False])"
      ]
     },
     "execution_count": 12,
     "metadata": {},
     "output_type": "execute_result"
    }
   ],
   "source": [
    "(ytrain==1)[:10]"
   ]
  },
  {
   "cell_type": "code",
   "execution_count": 13,
   "metadata": {},
   "outputs": [],
   "source": [
    "from sklearn.linear_model import SGDClassifier"
   ]
  },
  {
   "cell_type": "code",
   "execution_count": 14,
   "metadata": {},
   "outputs": [],
   "source": [
    "sgd = SGDClassifier(random_state=42)"
   ]
  },
  {
   "cell_type": "code",
   "execution_count": 15,
   "metadata": {},
   "outputs": [
    {
     "name": "stderr",
     "output_type": "stream",
     "text": [
      "C:\\Anaconda\\lib\\site-packages\\sklearn\\linear_model\\stochastic_gradient.py:144: FutureWarning: max_iter and tol parameters have been added in SGDClassifier in 0.19. If both are left unset, they default to max_iter=5 and tol=None. If tol is not None, max_iter defaults to max_iter=1000. From 0.21, default max_iter will be 1000, and default tol will be 1e-3.\n",
      "  FutureWarning)\n"
     ]
    },
    {
     "data": {
      "text/plain": [
       "SGDClassifier(alpha=0.0001, average=False, class_weight=None,\n",
       "       early_stopping=False, epsilon=0.1, eta0=0.0, fit_intercept=True,\n",
       "       l1_ratio=0.15, learning_rate='optimal', loss='hinge', max_iter=None,\n",
       "       n_iter=None, n_iter_no_change=5, n_jobs=None, penalty='l2',\n",
       "       power_t=0.5, random_state=42, shuffle=True, tol=None,\n",
       "       validation_fraction=0.1, verbose=0, warm_start=False)"
      ]
     },
     "execution_count": 15,
     "metadata": {},
     "output_type": "execute_result"
    }
   ],
   "source": [
    "sgd.fit(Xtrain,ytrain5)"
   ]
  },
  {
   "cell_type": "code",
   "execution_count": 16,
   "metadata": {},
   "outputs": [
    {
     "data": {
      "text/plain": [
       "array([ True])"
      ]
     },
     "execution_count": 16,
     "metadata": {},
     "output_type": "execute_result"
    }
   ],
   "source": [
    "sgd.predict([some_digit])"
   ]
  },
  {
   "cell_type": "code",
   "execution_count": 17,
   "metadata": {},
   "outputs": [
    {
     "name": "stderr",
     "output_type": "stream",
     "text": [
      "C:\\Anaconda\\lib\\site-packages\\sklearn\\linear_model\\stochastic_gradient.py:144: FutureWarning: max_iter and tol parameters have been added in SGDClassifier in 0.19. If both are left unset, they default to max_iter=5 and tol=None. If tol is not None, max_iter defaults to max_iter=1000. From 0.21, default max_iter will be 1000, and default tol will be 1e-3.\n",
      "  FutureWarning)\n"
     ]
    },
    {
     "name": "stdout",
     "output_type": "stream",
     "text": [
      "0.9905719673161534\n"
     ]
    },
    {
     "name": "stderr",
     "output_type": "stream",
     "text": [
      "C:\\Anaconda\\lib\\site-packages\\sklearn\\linear_model\\stochastic_gradient.py:144: FutureWarning: max_iter and tol parameters have been added in SGDClassifier in 0.19. If both are left unset, they default to max_iter=5 and tol=None. If tol is not None, max_iter defaults to max_iter=1000. From 0.21, default max_iter will be 1000, and default tol will be 1e-3.\n",
      "  FutureWarning)\n"
     ]
    },
    {
     "name": "stdout",
     "output_type": "stream",
     "text": [
      "0.9818857142857143\n"
     ]
    },
    {
     "name": "stderr",
     "output_type": "stream",
     "text": [
      "C:\\Anaconda\\lib\\site-packages\\sklearn\\linear_model\\stochastic_gradient.py:144: FutureWarning: max_iter and tol parameters have been added in SGDClassifier in 0.19. If both are left unset, they default to max_iter=5 and tol=None. If tol is not None, max_iter defaults to max_iter=1000. From 0.21, default max_iter will be 1000, and default tol will be 1e-3.\n",
      "  FutureWarning)\n"
     ]
    },
    {
     "name": "stdout",
     "output_type": "stream",
     "text": [
      "0.98914223669924\n"
     ]
    }
   ],
   "source": [
    "from sklearn.model_selection import StratifiedKFold \n",
    "from sklearn.base import clone\n",
    "skfolds = StratifiedKFold(n_splits=3, random_state=42)\n",
    "for train_index, test_index in skfolds.split(Xtrain, ytrain5): \n",
    "    clone_clf = clone(sgd) \n",
    "    X_train_folds = Xtrain[train_index] \n",
    "    y_train_folds = ytrain5[train_index]\n",
    "    X_test_fold = Xtrain[test_index] \n",
    "    y_test_fold = ytrain5[test_index]\n",
    "    clone_clf.fit(X_train_folds, y_train_folds) \n",
    "    y_pred = clone_clf.predict(X_test_fold) \n",
    "    n_correct = sum(y_pred == y_test_fold) \n",
    "    print(n_correct / len(y_pred))"
   ]
  },
  {
   "cell_type": "code",
   "execution_count": 163,
   "metadata": {},
   "outputs": [
    {
     "data": {
      "text/plain": [
       "array([False,  True, False, ...,  True,  True,  True])"
      ]
     },
     "execution_count": 163,
     "metadata": {},
     "output_type": "execute_result"
    }
   ],
   "source": [
    "ytrain5[train_index]"
   ]
  },
  {
   "cell_type": "code",
   "execution_count": 164,
   "metadata": {},
   "outputs": [
    {
     "data": {
      "text/plain": [
       "array([False,  True, False, ...,  True,  True,  True])"
      ]
     },
     "execution_count": 164,
     "metadata": {},
     "output_type": "execute_result"
    }
   ],
   "source": [
    "y_train_folds"
   ]
  },
  {
   "cell_type": "code",
   "execution_count": 18,
   "metadata": {},
   "outputs": [],
   "source": [
    "from sklearn.model_selection import cross_val_score"
   ]
  },
  {
   "cell_type": "code",
   "execution_count": 19,
   "metadata": {},
   "outputs": [
    {
     "name": "stderr",
     "output_type": "stream",
     "text": [
      "C:\\Anaconda\\lib\\site-packages\\sklearn\\linear_model\\stochastic_gradient.py:144: FutureWarning: max_iter and tol parameters have been added in SGDClassifier in 0.19. If both are left unset, they default to max_iter=5 and tol=None. If tol is not None, max_iter defaults to max_iter=1000. From 0.21, default max_iter will be 1000, and default tol will be 1e-3.\n",
      "  FutureWarning)\n",
      "C:\\Anaconda\\lib\\site-packages\\sklearn\\linear_model\\stochastic_gradient.py:144: FutureWarning: max_iter and tol parameters have been added in SGDClassifier in 0.19. If both are left unset, they default to max_iter=5 and tol=None. If tol is not None, max_iter defaults to max_iter=1000. From 0.21, default max_iter will be 1000, and default tol will be 1e-3.\n",
      "  FutureWarning)\n",
      "C:\\Anaconda\\lib\\site-packages\\sklearn\\linear_model\\stochastic_gradient.py:144: FutureWarning: max_iter and tol parameters have been added in SGDClassifier in 0.19. If both are left unset, they default to max_iter=5 and tol=None. If tol is not None, max_iter defaults to max_iter=1000. From 0.21, default max_iter will be 1000, and default tol will be 1e-3.\n",
      "  FutureWarning)\n"
     ]
    },
    {
     "data": {
      "text/plain": [
       "array([0.99057197, 0.98188571, 0.98914224])"
      ]
     },
     "execution_count": 19,
     "metadata": {},
     "output_type": "execute_result"
    }
   ],
   "source": [
    "cross_val_score(sgd, Xtrain, ytrain5, cv=3, scoring=\"accuracy\")"
   ]
  },
  {
   "cell_type": "code",
   "execution_count": 20,
   "metadata": {},
   "outputs": [],
   "source": [
    "from sklearn.base import BaseEstimator\n",
    "class Never5Classifier(BaseEstimator):\n",
    "    def fit(self, X, y=None):\n",
    "        pass\n",
    "    def predict(self, X):\n",
    "        return np.zeros((len(X), 1), dtype=bool)"
   ]
  },
  {
   "cell_type": "code",
   "execution_count": 22,
   "metadata": {},
   "outputs": [
    {
     "data": {
      "text/plain": [
       "array([0.88771429, 0.88817143, 0.88457143])"
      ]
     },
     "execution_count": 22,
     "metadata": {},
     "output_type": "execute_result"
    }
   ],
   "source": [
    "never_5_clf = Never5Classifier()\n",
    "cross_val_score(never_5_clf, Xtrain, ytrain5, cv=3, scoring=\"accuracy\")"
   ]
  },
  {
   "cell_type": "code",
   "execution_count": 10,
   "metadata": {},
   "outputs": [
    {
     "name": "stderr",
     "output_type": "stream",
     "text": [
      "C:\\Anaconda\\lib\\site-packages\\h5py\\__init__.py:36: FutureWarning: Conversion of the second argument of issubdtype from `float` to `np.floating` is deprecated. In future, it will be treated as `np.float64 == np.dtype(float).type`.\n",
      "  from ._conv import register_converters as _register_converters\n",
      "Using TensorFlow backend.\n"
     ]
    }
   ],
   "source": [
    "from keras.layers import Dense\n",
    "from keras.models import Sequential\n",
    "from keras.layers import Dropout"
   ]
  },
  {
   "cell_type": "code",
   "execution_count": 42,
   "metadata": {},
   "outputs": [],
   "source": [
    "classifier = Sequential()"
   ]
  },
  {
   "cell_type": "code",
   "execution_count": 43,
   "metadata": {},
   "outputs": [],
   "source": [
    "classifier.add(Dense(activation='relu',units=32,input_dim=784))\n",
    "classifier.add(Dropout(0.1))"
   ]
  },
  {
   "cell_type": "code",
   "execution_count": 44,
   "metadata": {},
   "outputs": [],
   "source": [
    "classifier.add(Dense(activation='relu',units=64))\n",
    "classifier.add(Dropout(0.1))"
   ]
  },
  {
   "cell_type": "code",
   "execution_count": 50,
   "metadata": {},
   "outputs": [],
   "source": [
    "classifier.add(Dense(activation='relu',units=16))\n",
    "classifier.add(Dropout(0.1))"
   ]
  },
  {
   "cell_type": "code",
   "execution_count": 51,
   "metadata": {},
   "outputs": [],
   "source": [
    "classifier.add(Dense(activation='softmax',units=10))"
   ]
  },
  {
   "cell_type": "code",
   "execution_count": 52,
   "metadata": {},
   "outputs": [],
   "source": [
    "classifier.compile(optimizer='adam',loss='categorical_crossentropy',metrics=['accuracy'])"
   ]
  },
  {
   "cell_type": "code",
   "execution_count": 53,
   "metadata": {},
   "outputs": [
    {
     "name": "stderr",
     "output_type": "stream",
     "text": [
      "C:\\Anaconda\\lib\\site-packages\\sklearn\\preprocessing\\_encoders.py:363: FutureWarning: The handling of integer data will change in version 0.22. Currently, the categories are determined based on the range [0, max(values)], while in the future they will be determined based on the unique values.\n",
      "If you want the future behaviour and silence this warning, you can specify \"categories='auto'\".\n",
      "In case you used a LabelEncoder before this OneHotEncoder to convert the categories to integers, then you can now use the OneHotEncoder directly.\n",
      "  warnings.warn(msg, FutureWarning)\n"
     ]
    },
    {
     "data": {
      "text/plain": [
       "array([[0., 0., 0., 0., 0., 0., 0., 0., 0., 1.],\n",
       "       [0., 1., 0., 0., 0., 0., 0., 0., 0., 0.],\n",
       "       [0., 0., 0., 1., 0., 0., 0., 0., 0., 0.],\n",
       "       [0., 0., 0., 0., 0., 0., 0., 0., 0., 1.],\n",
       "       [0., 0., 0., 0., 0., 0., 0., 0., 1., 0.],\n",
       "       [0., 0., 0., 0., 0., 0., 1., 0., 0., 0.],\n",
       "       [1., 0., 0., 0., 0., 0., 0., 0., 0., 0.],\n",
       "       [1., 0., 0., 0., 0., 0., 0., 0., 0., 0.],\n",
       "       [0., 0., 0., 0., 0., 1., 0., 0., 0., 0.],\n",
       "       [0., 0., 1., 0., 0., 0., 0., 0., 0., 0.]])"
      ]
     },
     "execution_count": 53,
     "metadata": {},
     "output_type": "execute_result"
    }
   ],
   "source": [
    "from sklearn.preprocessing import OneHotEncoder\n",
    "onehotencoder = OneHotEncoder()\n",
    "\n",
    "f = onehotencoder.fit_transform(ytrain.reshape(-1,1)).toarray()\n",
    "\n",
    "ytrainhot = f\n",
    "\n",
    "ytrainhot[:10]"
   ]
  },
  {
   "cell_type": "code",
   "execution_count": 54,
   "metadata": {},
   "outputs": [
    {
     "name": "stdout",
     "output_type": "stream",
     "text": [
      "Epoch 1/100\n",
      "52500/52500 [==============================] - 4s 71us/step - loss: 2.4324 - acc: 0.1639\n",
      "Epoch 2/100\n",
      "52500/52500 [==============================] - 2s 40us/step - loss: 1.8806 - acc: 0.3171\n",
      "Epoch 3/100\n",
      "52500/52500 [==============================] - 2s 37us/step - loss: 1.6152 - acc: 0.3588\n",
      "Epoch 4/100\n",
      "52500/52500 [==============================] - 2s 37us/step - loss: 1.5044 - acc: 0.3718\n",
      "Epoch 5/100\n",
      "52500/52500 [==============================] - 2s 37us/step - loss: 1.4555 - acc: 0.3842\n",
      "Epoch 6/100\n",
      "52500/52500 [==============================] - 2s 37us/step - loss: 1.4058 - acc: 0.4025\n",
      "Epoch 7/100\n",
      "52500/52500 [==============================] - 2s 37us/step - loss: 1.3133 - acc: 0.4556\n",
      "Epoch 8/100\n",
      "52500/52500 [==============================] - 2s 36us/step - loss: 1.1485 - acc: 0.5146\n",
      "Epoch 9/100\n",
      "52500/52500 [==============================] - 2s 36us/step - loss: 1.0632 - acc: 0.5389\n",
      "Epoch 10/100\n",
      "52500/52500 [==============================] - 2s 36us/step - loss: 1.0373 - acc: 0.5446\n",
      "Epoch 11/100\n",
      "52500/52500 [==============================] - 2s 38us/step - loss: 1.0241 - acc: 0.5493\n",
      "Epoch 12/100\n",
      "52500/52500 [==============================] - 2s 36us/step - loss: 1.0009 - acc: 0.5551\n",
      "Epoch 13/100\n",
      "52500/52500 [==============================] - 2s 37us/step - loss: 0.9810 - acc: 0.5649\n",
      "Epoch 14/100\n",
      "52500/52500 [==============================] - 2s 36us/step - loss: 0.9597 - acc: 0.5840\n",
      "Epoch 15/100\n",
      "52500/52500 [==============================] - 2s 41us/step - loss: 0.9187 - acc: 0.6177\n",
      "Epoch 16/100\n",
      "52500/52500 [==============================] - 2s 39us/step - loss: 0.8440 - acc: 0.6723\n",
      "Epoch 17/100\n",
      "52500/52500 [==============================] - 2s 40us/step - loss: 0.7894 - acc: 0.6904\n",
      "Epoch 18/100\n",
      "52500/52500 [==============================] - 2s 42us/step - loss: 0.7557 - acc: 0.7042\n",
      "Epoch 19/100\n",
      "52500/52500 [==============================] - 2s 38us/step - loss: 0.7275 - acc: 0.7087\n",
      "Epoch 20/100\n",
      "52500/52500 [==============================] - 2s 46us/step - loss: 0.7069 - acc: 0.7110\n",
      "Epoch 21/100\n",
      "52500/52500 [==============================] - 2s 43us/step - loss: 0.6908 - acc: 0.7158: 1s - loss: 0.6957 - acc: 0 - ETA: 1s - loss: 0\n",
      "Epoch 22/100\n",
      "52500/52500 [==============================] - 2s 40us/step - loss: 0.6766 - acc: 0.7205\n",
      "Epoch 23/100\n",
      "52500/52500 [==============================] - 2s 39us/step - loss: 0.6670 - acc: 0.7213\n",
      "Epoch 24/100\n",
      "52500/52500 [==============================] - 2s 40us/step - loss: 0.6594 - acc: 0.7220\n",
      "Epoch 25/100\n",
      "52500/52500 [==============================] - 2s 41us/step - loss: 0.6472 - acc: 0.7250\n",
      "Epoch 26/100\n",
      "52500/52500 [==============================] - 2s 41us/step - loss: 0.6442 - acc: 0.7270\n",
      "Epoch 27/100\n",
      "52500/52500 [==============================] - 2s 41us/step - loss: 0.6249 - acc: 0.7310\n",
      "Epoch 28/100\n",
      "52500/52500 [==============================] - 2s 41us/step - loss: 0.6188 - acc: 0.7330\n",
      "Epoch 29/100\n",
      "52500/52500 [==============================] - 2s 41us/step - loss: 0.6111 - acc: 0.7346\n",
      "Epoch 30/100\n",
      "52500/52500 [==============================] - 2s 41us/step - loss: 0.6038 - acc: 0.7388\n",
      "Epoch 31/100\n",
      "52500/52500 [==============================] - 2s 43us/step - loss: 0.5965 - acc: 0.7374\n",
      "Epoch 32/100\n",
      "52500/52500 [==============================] - 2s 41us/step - loss: 0.5875 - acc: 0.7414\n",
      "Epoch 33/100\n",
      "52500/52500 [==============================] - 2s 40us/step - loss: 0.5782 - acc: 0.7454\n",
      "Epoch 34/100\n",
      "52500/52500 [==============================] - 2s 38us/step - loss: 0.5789 - acc: 0.7460\n",
      "Epoch 35/100\n",
      "52500/52500 [==============================] - 2s 37us/step - loss: 0.5777 - acc: 0.7525\n",
      "Epoch 36/100\n",
      "52500/52500 [==============================] - 2s 39us/step - loss: 0.5478 - acc: 0.7779\n",
      "Epoch 37/100\n",
      "52500/52500 [==============================] - 2s 35us/step - loss: 0.4958 - acc: 0.8189\n",
      "Epoch 38/100\n",
      "52500/52500 [==============================] - 2s 38us/step - loss: 0.4723 - acc: 0.8326\n",
      "Epoch 39/100\n",
      "52500/52500 [==============================] - 2s 36us/step - loss: 0.4618 - acc: 0.8416\n",
      "Epoch 40/100\n",
      "52500/52500 [==============================] - 2s 38us/step - loss: 0.4467 - acc: 0.8638\n",
      "Epoch 41/100\n",
      "52500/52500 [==============================] - 2s 35us/step - loss: 0.4385 - acc: 0.8762\n",
      "Epoch 42/100\n",
      "52500/52500 [==============================] - 2s 35us/step - loss: 0.4114 - acc: 0.8840\n",
      "Epoch 43/100\n",
      "52500/52500 [==============================] - 2s 36us/step - loss: 0.4036 - acc: 0.8879\n",
      "Epoch 44/100\n",
      "52500/52500 [==============================] - 2s 36us/step - loss: 0.4000 - acc: 0.8900\n",
      "Epoch 45/100\n",
      "52500/52500 [==============================] - 2s 36us/step - loss: 0.3830 - acc: 0.8973\n",
      "Epoch 46/100\n",
      "52500/52500 [==============================] - 2s 37us/step - loss: 0.3865 - acc: 0.8945\n",
      "Epoch 47/100\n",
      "52500/52500 [==============================] - 2s 35us/step - loss: 0.3718 - acc: 0.9008\n",
      "Epoch 48/100\n",
      "52500/52500 [==============================] - 2s 38us/step - loss: 0.3610 - acc: 0.9014\n",
      "Epoch 49/100\n",
      "52500/52500 [==============================] - 2s 37us/step - loss: 0.3676 - acc: 0.8977\n",
      "Epoch 50/100\n",
      "52500/52500 [==============================] - 2s 44us/step - loss: 0.3576 - acc: 0.9013\n",
      "Epoch 51/100\n",
      "52500/52500 [==============================] - 2s 38us/step - loss: 0.3536 - acc: 0.9039\n",
      "Epoch 52/100\n",
      "52500/52500 [==============================] - 2s 38us/step - loss: 0.3412 - acc: 0.9094\n",
      "Epoch 53/100\n",
      "52500/52500 [==============================] - 2s 39us/step - loss: 0.3351 - acc: 0.9084\n",
      "Epoch 54/100\n",
      "52500/52500 [==============================] - 2s 40us/step - loss: 0.3345 - acc: 0.9075\n",
      "Epoch 55/100\n",
      "52500/52500 [==============================] - 2s 39us/step - loss: 0.3238 - acc: 0.9115\n",
      "Epoch 56/100\n",
      "52500/52500 [==============================] - 2s 35us/step - loss: 0.3177 - acc: 0.9142\n",
      "Epoch 57/100\n",
      "52500/52500 [==============================] - 2s 37us/step - loss: 0.3125 - acc: 0.9138\n",
      "Epoch 58/100\n",
      "52500/52500 [==============================] - 2s 36us/step - loss: 0.3176 - acc: 0.9120\n",
      "Epoch 59/100\n",
      "52500/52500 [==============================] - 2s 36us/step - loss: 0.3104 - acc: 0.9158\n",
      "Epoch 60/100\n",
      "52500/52500 [==============================] - 2s 36us/step - loss: 0.3038 - acc: 0.9174\n",
      "Epoch 61/100\n",
      "52500/52500 [==============================] - 2s 37us/step - loss: 0.2989 - acc: 0.9181\n",
      "Epoch 62/100\n",
      "52500/52500 [==============================] - 2s 40us/step - loss: 0.2952 - acc: 0.9196\n",
      "Epoch 63/100\n",
      "52500/52500 [==============================] - 2s 37us/step - loss: 0.2948 - acc: 0.9199\n",
      "Epoch 64/100\n",
      "52500/52500 [==============================] - 2s 35us/step - loss: 0.2939 - acc: 0.9197\n",
      "Epoch 65/100\n",
      "52500/52500 [==============================] - 2s 36us/step - loss: 0.2892 - acc: 0.9218\n",
      "Epoch 66/100\n",
      "52500/52500 [==============================] - 2s 35us/step - loss: 0.2908 - acc: 0.9214\n",
      "Epoch 67/100\n",
      "52500/52500 [==============================] - 2s 37us/step - loss: 0.2862 - acc: 0.9217\n",
      "Epoch 68/100\n",
      "52500/52500 [==============================] - 2s 36us/step - loss: 0.2942 - acc: 0.9183\n",
      "Epoch 69/100\n",
      "52500/52500 [==============================] - 2s 36us/step - loss: 0.2873 - acc: 0.9201\n",
      "Epoch 70/100\n",
      "52500/52500 [==============================] - 2s 34us/step - loss: 0.2782 - acc: 0.9243\n",
      "Epoch 71/100\n",
      "52500/52500 [==============================] - 2s 43us/step - loss: 0.2740 - acc: 0.9262\n",
      "Epoch 72/100\n",
      "52500/52500 [==============================] - 2s 39us/step - loss: 0.2783 - acc: 0.9253\n",
      "Epoch 73/100\n",
      "52500/52500 [==============================] - 2s 36us/step - loss: 0.2766 - acc: 0.9247\n",
      "Epoch 74/100\n",
      "52500/52500 [==============================] - 2s 36us/step - loss: 0.2702 - acc: 0.9274\n",
      "Epoch 75/100\n",
      "52500/52500 [==============================] - 2s 34us/step - loss: 0.2720 - acc: 0.9271\n",
      "Epoch 76/100\n",
      "52500/52500 [==============================] - 2s 34us/step - loss: 0.2688 - acc: 0.9269\n",
      "Epoch 77/100\n",
      "52500/52500 [==============================] - 2s 35us/step - loss: 0.2835 - acc: 0.9226\n",
      "Epoch 78/100\n",
      "52500/52500 [==============================] - 2s 35us/step - loss: 0.2700 - acc: 0.9268\n",
      "Epoch 79/100\n",
      "52500/52500 [==============================] - 2s 34us/step - loss: 0.2619 - acc: 0.9292: 0s - loss: 0.2621 - acc: 0.929\n",
      "Epoch 80/100\n"
     ]
    },
    {
     "name": "stdout",
     "output_type": "stream",
     "text": [
      "52500/52500 [==============================] - 2s 37us/step - loss: 0.2620 - acc: 0.9292\n",
      "Epoch 81/100\n",
      "52500/52500 [==============================] - 2s 37us/step - loss: 0.2779 - acc: 0.9246\n",
      "Epoch 82/100\n",
      "52500/52500 [==============================] - 2s 37us/step - loss: 0.2627 - acc: 0.9283\n",
      "Epoch 83/100\n",
      "52500/52500 [==============================] - 2s 37us/step - loss: 0.2555 - acc: 0.9296\n",
      "Epoch 84/100\n",
      "52500/52500 [==============================] - 2s 37us/step - loss: 0.2528 - acc: 0.9328\n",
      "Epoch 85/100\n",
      "52500/52500 [==============================] - 2s 37us/step - loss: 0.2569 - acc: 0.9301\n",
      "Epoch 86/100\n",
      "52500/52500 [==============================] - 2s 39us/step - loss: 0.2565 - acc: 0.9306\n",
      "Epoch 87/100\n",
      "52500/52500 [==============================] - 2s 37us/step - loss: 0.2502 - acc: 0.9313\n",
      "Epoch 88/100\n",
      "52500/52500 [==============================] - 2s 36us/step - loss: 0.2559 - acc: 0.9307\n",
      "Epoch 89/100\n",
      "52500/52500 [==============================] - 2s 42us/step - loss: 0.2521 - acc: 0.9310\n",
      "Epoch 90/100\n",
      "52500/52500 [==============================] - 2s 36us/step - loss: 0.2530 - acc: 0.9324\n",
      "Epoch 91/100\n",
      "52500/52500 [==============================] - 2s 37us/step - loss: 0.2512 - acc: 0.9329\n",
      "Epoch 92/100\n",
      "52500/52500 [==============================] - 2s 37us/step - loss: 0.2523 - acc: 0.9321\n",
      "Epoch 93/100\n",
      "52500/52500 [==============================] - 2s 42us/step - loss: 0.2483 - acc: 0.9323: 0s - loss: 0.2489 - acc: 0.9\n",
      "Epoch 94/100\n",
      "52500/52500 [==============================] - 2s 38us/step - loss: 0.2424 - acc: 0.9343: 2s\n",
      "Epoch 95/100\n",
      "52500/52500 [==============================] - 2s 35us/step - loss: 0.2427 - acc: 0.9353\n",
      "Epoch 96/100\n",
      "52500/52500 [==============================] - 2s 36us/step - loss: 0.2438 - acc: 0.9337\n",
      "Epoch 97/100\n",
      "52500/52500 [==============================] - 2s 38us/step - loss: 0.2542 - acc: 0.9292\n",
      "Epoch 98/100\n",
      "52500/52500 [==============================] - 2s 42us/step - loss: 0.2472 - acc: 0.9332\n",
      "Epoch 99/100\n",
      "52500/52500 [==============================] - 2s 37us/step - loss: 0.2385 - acc: 0.9358: 0s - loss: 0.2389\n",
      "Epoch 100/100\n",
      "52500/52500 [==============================] - 2s 40us/step - loss: 0.2349 - acc: 0.9365\n"
     ]
    },
    {
     "data": {
      "text/plain": [
       "<keras.callbacks.History at 0x2cd0ac50ba8>"
      ]
     },
     "execution_count": 54,
     "metadata": {},
     "output_type": "execute_result"
    }
   ],
   "source": [
    "classifier.fit(Xtrain,ytrainhot,batch_size=400,epochs=100)"
   ]
  },
  {
   "cell_type": "code",
   "execution_count": 55,
   "metadata": {},
   "outputs": [],
   "source": [
    "pred = classifier.predict_classes(Xtest)"
   ]
  },
  {
   "cell_type": "code",
   "execution_count": 56,
   "metadata": {},
   "outputs": [
    {
     "data": {
      "text/plain": [
       "array([7, 8, 6, 5, 7, 1, 3, 3, 0, 9, 4, 5, 4, 2, 0, 5, 0, 5, 3, 1],\n",
       "      dtype=int64)"
      ]
     },
     "execution_count": 56,
     "metadata": {},
     "output_type": "execute_result"
    }
   ],
   "source": [
    "pred[:20]"
   ]
  },
  {
   "cell_type": "code",
   "execution_count": 57,
   "metadata": {},
   "outputs": [
    {
     "data": {
      "text/plain": [
       "array([7, 8, 6, 5, 7, 1, 3, 3, 0, 9, 4, 5, 0, 2, 0, 5, 0, 5, 3, 1],\n",
       "      dtype=int64)"
      ]
     },
     "execution_count": 57,
     "metadata": {},
     "output_type": "execute_result"
    }
   ],
   "source": [
    "ytest[:20].astype('int64')"
   ]
  },
  {
   "cell_type": "code",
   "execution_count": 58,
   "metadata": {},
   "outputs": [],
   "source": [
    "from sklearn.metrics import confusion_matrix"
   ]
  },
  {
   "cell_type": "code",
   "execution_count": 59,
   "metadata": {},
   "outputs": [
    {
     "data": {
      "text/plain": [
       "0.9477142857142857"
      ]
     },
     "execution_count": 59,
     "metadata": {},
     "output_type": "execute_result"
    }
   ],
   "source": [
    "s=0\n",
    "for i in range(10):\n",
    "    s+=confusion_matrix(ytest,pred)[i][i]\n",
    "s/17500"
   ]
  },
  {
   "cell_type": "code",
   "execution_count": 60,
   "metadata": {},
   "outputs": [
    {
     "data": {
      "text/plain": [
       "array([[1644,    0,    1,    1,   11,    0,    8,    0,   12,    0],\n",
       "       [   0, 1897,    8,   12,    0,    0,    1,    5,    8,    4],\n",
       "       [  15,    6, 1686,   19,    6,    0,    8,   12,   12,    3],\n",
       "       [   4,    0,   24, 1673,    2,   21,    1,   13,   10,   18],\n",
       "       [   2,    3,    4,    2, 1564,    0,    6,    7,    7,   96],\n",
       "       [   8,    4,    3,   30,    8, 1524,   22,    2,   21,   31],\n",
       "       [  11,    2,    4,    1,   26,    5, 1691,    0,   11,    3],\n",
       "       [   5,    2,   15,   14,    5,    1,    1, 1734,    7,   62],\n",
       "       [   9,   10,    9,    8,   18,   17,    9,    1, 1590,   31],\n",
       "       [   9,    3,    3,   14,   39,    9,    0,   31,   19, 1582]],\n",
       "      dtype=int64)"
      ]
     },
     "execution_count": 60,
     "metadata": {},
     "output_type": "execute_result"
    }
   ],
   "source": [
    "confusion_matrix(ytest,pred)"
   ]
  },
  {
   "cell_type": "code",
   "execution_count": null,
   "metadata": {},
   "outputs": [],
   "source": []
  },
  {
   "cell_type": "code",
   "execution_count": null,
   "metadata": {},
   "outputs": [],
   "source": []
  }
 ],
 "metadata": {
  "kernelspec": {
   "display_name": "Python [default]",
   "language": "python",
   "name": "python3"
  },
  "language_info": {
   "codemirror_mode": {
    "name": "ipython",
    "version": 3
   },
   "file_extension": ".py",
   "mimetype": "text/x-python",
   "name": "python",
   "nbconvert_exporter": "python",
   "pygments_lexer": "ipython3",
   "version": "3.6.5"
  }
 },
 "nbformat": 4,
 "nbformat_minor": 2
}
